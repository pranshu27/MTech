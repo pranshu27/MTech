{
 "cells": [
  {
   "cell_type": "code",
   "execution_count": 30,
   "id": "5d8523b0",
   "metadata": {},
   "outputs": [],
   "source": [
    "import numpy as np\n",
    "import time\n",
    "import random\n",
    "import pandas as pd\n",
    "import matplotlib.pyplot as plt\n"
   ]
  },
  {
   "cell_type": "markdown",
   "id": "63467f58",
   "metadata": {},
   "source": [
    "# Q1.a)  Use this function to find minima for (i) x2 + 3x+4 and (ii) x4 – 3x2 +2x. [5 points]\n"
   ]
  },
  {
   "cell_type": "markdown",
   "id": "3d38eb88",
   "metadata": {},
   "source": [
    "### 1. $x^2+3x+4$"
   ]
  },
  {
   "cell_type": "code",
   "execution_count": 31,
   "id": "4a94b4fd",
   "metadata": {},
   "outputs": [
    {
     "data": {
      "image/png": "[encoded data removed]",
      "text/plain": [
       "<Figure size 432x288 with 1 Axes>"
      ]
     },
     "metadata": {
      "needs_background": "light"
     },
     "output_type": "display_data"
    }
   ],
   "source": [
    "x=np.linspace(-15,15,300)\n",
    "y=x**2+3*x+4\n",
    "plt.xlim([-15,15])\n",
    "plt.ylim([0,10])\n",
    "plt.grid()\n",
    "\n",
    "plt.plot(x,y)\n",
    "plt.show()"
   ]
  },
  {
   "cell_type": "markdown",
   "id": "a87891b3",
   "metadata": {},
   "source": [
    "## 2. $x^4 - 3x^2 + 2x$"
   ]
  },
  {
   "cell_type": "code",
   "execution_count": 32,
   "id": "bbfee287",
   "metadata": {},
   "outputs": [
    {
     "data": {
      "image/png": "[encoded data removed]",
      "text/plain": [
       "<Figure size 432x288 with 1 Axes>"
      ]
     },
     "metadata": {
      "needs_background": "light"
     },
     "output_type": "display_data"
    }
   ],
   "source": [
    "x=np.linspace(-15,15,300)\n",
    "y=x**4-3*x*x+2*x\n",
    "plt.xlim([-15,15])\n",
    "plt.ylim([-10,15])\n",
    "plt.grid()\n",
    "plt.plot(x,y)\n",
    "plt.show()"
   ]
  },
  {
   "cell_type": "code",
   "execution_count": 33,
   "id": "2232a4f2",
   "metadata": {},
   "outputs": [
    {
     "name": "stdout",
     "output_type": "stream",
     "text": [
      "Iterations: 64\n",
      "Minima for the function x^2+3x+4 is found at -1.5 and the minimum value of the function is 1.75\n",
      "Iterations: 66\n",
      "Minima for the function x^4-3x^2+2x is found at -1.366 and the minimum value of the function is -4.848076206064\n"
     ]
    }
   ],
   "source": [
    "gradient1 = lambda x: 2*x+3 ## specifies gradient for the function x2 + 3x+4\n",
    "gradient2 = lambda x: 4*(x**3)-6*x+2 ## specifies gradient for the function  x4 – 3x2 +2x.\n",
    "\n",
    "def gradient_descent (gradient, init_, learn_rate, n_iter=1000, tol=1e-06):\n",
    "    x = init_\n",
    "    for i in range (n_iter): \n",
    "        delta = (-1)*learn_rate * gradient(x)\n",
    "        if np.all(np.abs (delta) <= tol): \n",
    "            break \n",
    "        x += delta \n",
    "    print('Iterations:', str(i+1))\n",
    "    return  round(x*1000)/1000\n",
    "\n",
    "x1 = gradient_descent(gradient1,4 , 0.1)\n",
    "min_func1 = x1**2+3*x1+4\n",
    "print('Minima for the function x^2+3x+4 is found at '+ str(x1), 'and the minimum value of the function is', str(min_func1))\n",
    "\n",
    "x2 = gradient_descent(gradient2,-1 , 0.01)\n",
    "min_func2 = x2**4 - 3*(x2**2) + 2*x2\n",
    "print('Minima for the function x^4-3x^2+2x is found at '+ str(x2), 'and the minimum value of the function is', str(min_func2))\n"
   ]
  },
  {
   "cell_type": "markdown",
   "id": "34a2d8a1",
   "metadata": {},
   "source": [
    "## NOTE: The first polynomial is a convex function, so initialisation won't matter a lot. But the second polynomial is a non convex function, and hence the initialization value matters. I tried initialising with the value **~4**, and ended up finding local minima. Finally, the initial value of **~-1** is giving me the global minima."
   ]
  },
  {
   "cell_type": "markdown",
   "id": "d91d3e9b",
   "metadata": {},
   "source": [
    "# Q1.b) Write a gradient function to calculate gradients for a linear regression y = ax + b [10 points]\n"
   ]
  },
  {
   "cell_type": "markdown",
   "id": "b74212e1",
   "metadata": {},
   "source": [
    "The gradients w.r.t __a__ and __b__ are calculated as: \n",
    "$$\\nabla_a = \\frac{-2}{n} * \\sum(X * (Y - Y_{pred}))$$\n",
    "$$\\nabla_b = \\frac{-2}{n} * \\sum(Y - Y_pred)$$\n",
    "<br>\n",
    "\n",
    "$where, \\; Y_{pred} = a\\ast X + b$,<br> n = number of points in the dataset, <br>X is the input vector, <br>Y is the output vector \n",
    "\n",
    "### The same are used in the function below to elaborate their actual usage:"
   ]
  },
  {
   "cell_type": "code",
   "execution_count": 34,
   "id": "46c907fd",
   "metadata": {},
   "outputs": [],
   "source": [
    "def calculate_gradients(X, Y):\n",
    "    Y_pred = a*X + b \n",
    "        \n",
    "    D_a = (-2/n) * np.dot(X.T,(Y - Y_pred)) # gradient wrt a \n",
    "    D_b = (-2/n) * sum(Y - Y_pred) # gradient wrt b\n",
    "    return D_a, D_b"
   ]
  },
  {
   "cell_type": "markdown",
   "id": "776bf08e",
   "metadata": {},
   "source": [
    "# Q1.c) Generate artificial data for this regression according to the following protocol\n"
   ]
  },
  {
   "cell_type": "code",
   "execution_count": 35,
   "id": "025d9c45",
   "metadata": {},
   "outputs": [],
   "source": [
    "# initializing the parameters to be used later\n",
    "my_iter = 1000\n",
    "my_tol = 1e-06\n",
    "my_lr = 0.005"
   ]
  },
  {
   "cell_type": "markdown",
   "id": "8717fbb2",
   "metadata": {},
   "source": [
    "### Here we are trying to generate some artificial data: "
   ]
  },
  {
   "cell_type": "code",
   "execution_count": 36,
   "id": "a92cea38",
   "metadata": {},
   "outputs": [],
   "source": [
    "#generating some random data \n",
    "\n",
    "np.random.seed (0)\n",
    "X = 2.5*np.random.randn(10000)+1.5 #Ar\n",
    "res=1.5*np.random.randn(10000) # Gene.\n",
    "Y = 2+0.3*X + res"
   ]
  },
  {
   "cell_type": "markdown",
   "id": "ded139b9",
   "metadata": {},
   "source": [
    "##  Here we are trying to calculate partial derivatives in each iteration, w.r.t to the free parameteres __a__ and __b__. We updated their values based on the learning rate and the gradients calculated, and break the loop under following two scenarios:\n",
    "### 1. Iterations have equalled to max_iter\n",
    "### 2. Delta_a and delta_b have dropped below a specified tolerance, $10^{-6}$, in this case"
   ]
  },
  {
   "cell_type": "code",
   "execution_count": 37,
   "id": "5900b39e",
   "metadata": {},
   "outputs": [
    {
     "name": "stdout",
     "output_type": "stream",
     "text": [
      "\n",
      "Using batch gradient descent with a learning rate of 0.01, the values of (a,b, execution time, #iterations) are  (0.3, 2.02, 1.1576311588287354, 1000)\n"
     ]
    }
   ],
   "source": [
    "batch_time = 0\n",
    "def lr_gd(X, Y, learning_rate = my_lr, init_a = 0, init_b = 0, max_iter = my_iter, tol = my_tol):\n",
    "    start_time = time.time()\n",
    "\n",
    "    a = 0\n",
    "    b = 0\n",
    "\n",
    "    n = X.shape[0] \n",
    "    \n",
    "    for i in range(max_iter): \n",
    "        Y_pred = a*X + b \n",
    "        \n",
    "        D_a = (-2/n) * np.dot(X.T,(Y - Y_pred))  \n",
    "        D_b = (-2/n) * sum(Y - Y_pred)  \n",
    "        \n",
    "        delta_a = (-1)*learning_rate * D_a\n",
    "        delta_b = (-1)*learning_rate * D_b\n",
    "\n",
    "        if (np.all(np.abs (delta_a) <= tol) & np.all(np.abs (delta_b) <= tol)): \n",
    "            break\n",
    "        \n",
    "        a+=delta_a\n",
    "        b+=delta_b\n",
    "# =============================================================================\n",
    "#         print(i)\n",
    "# =============================================================================\n",
    "    #print('It took ', str(i+1), ' iterations to arrive at the desired result')\n",
    "    #batch_time = time.time() - start_time\n",
    "    #print(\"--- %s seconds ---\" % (time.time() - start_time))\n",
    "\n",
    "    return round(a,2), round(b,2),time.time() - start_time, i+1 \n",
    "\n",
    "a,b,batch_time, iterations = lr_gd(X, Y)\n",
    "print('\\nUsing batch gradient descent with a learning rate of 0.01, the values of (a,b, execution time, #iterations) are ', (a,b,batch_time, iterations))\n"
   ]
  },
  {
   "cell_type": "markdown",
   "id": "2d353060",
   "metadata": {},
   "source": [
    "# Q1.d) Implement minibatch stochastic gradient descent using the code base you have developed so far.[15 points]\n"
   ]
  },
  {
   "cell_type": "markdown",
   "id": "53555593",
   "metadata": {},
   "source": [
    "## Stochastic- Gradient Descent"
   ]
  },
  {
   "cell_type": "code",
   "execution_count": 38,
   "id": "51b202b3",
   "metadata": {},
   "outputs": [],
   "source": [
    "def lr_stochastic_gd(X, Y, learning_rate = my_lr, init_a = 0, init_b = 0, max_iter = my_iter, tol = my_tol):\n",
    "    \n",
    "    start_time = time.time()\n",
    "    a = 0\n",
    "    b = 0\n",
    "\n",
    "    n = X.shape[0] \n",
    "    \n",
    "    for i in range(max_iter): \n",
    "        #np.random.seed (5)\n",
    "        random_index=np.random.randint(0,n-1)\n",
    "        X_mini= X[random_index]\n",
    "        Y_mini = Y[random_index]\n",
    "        \n",
    "        Y_pred = a*X_mini + b \n",
    "\n",
    "       # print(X_mini, Y_mini)\n",
    "\n",
    "\n",
    "        D_a = (-2)*X_mini*(Y_mini - Y_pred)  \n",
    "        D_b = (-2)*(Y_mini - Y_pred)  \n",
    "\n",
    "        delta_a = (-1)*learning_rate * D_a\n",
    "        delta_b = (-1)*learning_rate * D_b\n",
    "\n",
    "        if (np.all(np.abs (delta_a) <= tol) & np.all(np.abs (delta_b) <= tol)): \n",
    "            break\n",
    "\n",
    "        a+=delta_a\n",
    "        b+=delta_b\n",
    "\n",
    "# =============================================================================\n",
    "#         print(i)\n",
    "# =============================================================================\n",
    "    #print('It took ', str(i+1), ' iterations to arrive at the desired result')\n",
    "    #print(\"--- %s seconds ---\" % (time.time() - start_time))\n",
    "    #print (round(a,2), round(b,2))\n",
    "    return str(i+1), time.time() - start_time, round(a,2), round(b,2)"
   ]
  },
  {
   "cell_type": "markdown",
   "id": "c7c74594",
   "metadata": {},
   "source": [
    "## Since there is a large amount of fluctuation in SGD, we will try to run the SGD method multiple times, and stop when we get the values of our free parameters, __a__ and __b__ in our desired range."
   ]
  },
  {
   "cell_type": "markdown",
   "id": "315f0a9f",
   "metadata": {},
   "source": [
    "> "
   ]
  },
  {
   "cell_type": "code",
   "execution_count": 39,
   "id": "6ca0f53f",
   "metadata": {},
   "outputs": [
    {
     "name": "stdout",
     "output_type": "stream",
     "text": [
      "1000 0.028056621551513672 0.34 2.0\n",
      "1000 0.022626399993896484 0.36 1.99\n",
      "1000 0.022193431854248047 0.47 2.18\n",
      "1000 0.023459196090698242 0.1 2.01\n",
      "1000 0.02993941307067871 0.26 2.06\n",
      "1000 0.023894071578979492 0.42 2.06\n",
      "1000 0.020761966705322266 0.23 1.93\n",
      "685 0.025142192840576172 0.35 1.88\n",
      "1000 0.029018640518188477 0.37 1.97\n",
      "1000 0.021324634552001953 0.24 1.95\n",
      "1000 0.02483963966369629 0.11 1.96\n",
      "1000 0.028622150421142578 0.36 2.11\n",
      "1000 0.022945642471313477 0.21 2.0\n",
      "1000 0.024069786071777344 0.29 2.02\n",
      "1000 0.028271198272705078 0.21 2.27\n",
      "1000 0.028585433959960938 0.15 1.99\n",
      "1000 0.022594213485717773 0.31 2.03\n",
      "1000 0.029275178909301758 0.26 1.98\n",
      "1000 0.02408885955810547 0.24 2.11\n",
      "928 0.023853063583374023 0.43 2.07\n",
      "1000 0.03603529930114746 0.38 2.35\n",
      "1000 0.023396730422973633 0.33 2.13\n",
      "1000 0.04725503921508789 0.45 1.97\n",
      "1000 0.024576902389526367 0.25 2.12\n",
      "1000 0.021357297897338867 0.27 2.08\n",
      "1000 0.02375197410583496 0.39 1.98\n",
      "1000 0.03796720504760742 0.4 1.97\n",
      "1000 0.038022756576538086 0.38 2.05\n",
      "1000 0.05794501304626465 0.26 1.92\n",
      "1000 0.029488563537597656 0.22 2.12\n",
      "1000 0.06354546546936035 0.36 2.04\n",
      "1000 0.06001758575439453 0.23 1.92\n",
      "1000 0.047751665115356445 0.22 2.01\n",
      "1000 0.05182480812072754 0.23 2.17\n",
      "1000 0.046797752380371094 0.47 1.97\n",
      "1000 0.037824153900146484 0.36 2.06\n",
      "1000 0.024018049240112305 0.53 1.94\n",
      "1000 0.022814512252807617 0.35 2.33\n",
      "1000 0.02353048324584961 0.19 2.0\n",
      "1000 0.029903650283813477 0.43 1.93\n",
      "1000 0.02201056480407715 0.49 2.15\n",
      "1000 0.022578001022338867 0.24 2.07\n",
      "1000 0.020388126373291016 0.24 2.08\n",
      "1000 0.024708986282348633 0.51 2.12\n",
      "1000 0.02426457405090332 0.3 2.11\n",
      "1000 0.03115248680114746 0.21 2.18\n",
      "1000 0.023274898529052734 0.26 2.03\n",
      "1000 0.022557735443115234 0.28 1.89\n",
      "1000 0.02415633201599121 0.45 1.99\n",
      "1000 0.026940584182739258 0.36 1.95\n",
      "1000 0.022688627243041992 0.23 2.15\n",
      "1000 0.024911165237426758 0.13 2.17\n",
      "783 0.017281293869018555 0.33 2.02\n",
      "1000 0.031915903091430664 0.36 1.95\n",
      "1000 0.02756214141845703 0.42 2.04\n",
      "1000 0.022447824478149414 0.23 2.1\n",
      "1000 0.0201568603515625 0.39 2.03\n",
      "1000 0.022179841995239258 0.39 2.11\n",
      "1000 0.021310091018676758 0.4 1.88\n",
      "1000 0.0446779727935791 0.31 2.19\n",
      "1000 0.038971900939941406 0.38 1.93\n",
      "1000 0.03081679344177246 0.33 2.03\n",
      "1000 0.04577827453613281 0.35 2.02\n",
      "1000 0.0610661506652832 0.37 2.13\n",
      "1000 0.05734395980834961 0.22 2.01\n",
      "1000 0.03350424766540527 0.19 2.07\n",
      "402 0.015336275100708008 0.38 2.02\n",
      "1000 0.036777496337890625 0.26 1.9\n",
      "1000 0.02961421012878418 0.39 1.97\n",
      "1000 0.021460771560668945 0.38 1.93\n",
      "1000 0.023394346237182617 0.03 2.12\n",
      "1000 0.026942968368530273 0.33 2.01\n",
      "1000 0.03283286094665527 0.16 2.05\n",
      "1000 0.044587135314941406 0.15 2.1\n",
      "1000 0.02848362922668457 0.4 1.96\n",
      "1000 0.02747488021850586 0.31 2.05\n",
      "1000 0.022762537002563477 0.2 2.0\n",
      "1000 0.021873950958251953 0.32 2.08\n",
      "1000 0.03040289878845215 0.33 2.17\n",
      "1000 0.02463984489440918 0.23 2.28\n",
      "1000 0.023595809936523438 0.3 2.01\n",
      "1000 0.023595809936523438\n"
     ]
    }
   ],
   "source": [
    "for i in range(10000):\n",
    "    it, exec_time, a,b = lr_stochastic_gd(X, Y)\n",
    "    print(it, exec_time, a, b)\n",
    "    if((a in [0.29, 0.3, 0.31]) and (b in [1.99, 2.0, 2.01])):\n",
    "        break\n",
    "\n",
    "print(it, exec_time)\n",
    "sgd_time = exec_time\n",
    "sgd_iterations = it"
   ]
  },
  {
   "cell_type": "markdown",
   "id": "a9380266",
   "metadata": {},
   "source": [
    "## Here we are creating a function for calculating the LR parameters using Minibatch GD\n",
    "### Steps:\n",
    "1. For each iteration, we are sampling the data from our input dataset of size equal to the batch size provided\n",
    "2. We will calculate the partial derivatives wrt __a__ and __b__\n",
    "3. We will update the values of __a__ and __b__ and calulate the delta of these params\n",
    "4. We will check if the delta values so calcuted fall below the pre-decided tolerance level\n",
    "5. If 4 happens to be true, we will stop and report the values of __a__ and __b__ \n",
    "6. If 4 is false, we will iterate till max_iter is reached, and return the values of __a__ and __b__"
   ]
  },
  {
   "cell_type": "code",
   "execution_count": 40,
   "id": "1e2fb424",
   "metadata": {},
   "outputs": [],
   "source": [
    "def lr_mb_gd(X, Y, batch_size, learning_rate = my_lr, init_a = 0, init_b = 0, max_iter = my_iter, tol = my_tol):\n",
    "    start_time = time.time()\n",
    "    a = 0\n",
    "    b = 0\n",
    "\n",
    "    n = float(len(X)) \n",
    "    \n",
    "    for i in range(max_iter): \n",
    "        #np.random.seed (5)\n",
    "        random_index=np.random.randint(0,n-batch_size-1)\n",
    "        X_mini= X[random_index:random_index+batch_size]\n",
    "        Y_mini = Y[random_index:random_index+batch_size]\n",
    "        \n",
    "        n_tmp = len(X_mini)\n",
    "        Y_pred = a*X_mini + b \n",
    "\n",
    "        D_a = (-2/n_tmp) * np.dot(X_mini.T,(Y_mini - Y_pred))  \n",
    "        D_b = (-2/n_tmp) * sum(Y_mini - Y_pred)  \n",
    "\n",
    "        delta_a = (-1)*learning_rate * D_a\n",
    "        delta_b = (-1)*learning_rate * D_b\n",
    "\n",
    "        if (np.all(np.abs (delta_a) <= tol) & np.all(np.abs (delta_b) <= tol)): \n",
    "            break\n",
    "\n",
    "        a+=delta_a\n",
    "        b+=delta_b\n",
    "\n",
    "# =============================================================================\n",
    "#         print(i)\n",
    "# =============================================================================\n",
    "    #print('It took ', str(i+1), ' iterations to arrive at the desired result')\n",
    "    #print(\"--- %s seconds ---\" % (time.time() - start_time))\n",
    "    #print (round(a,2), round(b,2))\n",
    "    return str(i+1), time.time() - start_time, round(a,2), round(b,2)"
   ]
  },
  {
   "cell_type": "markdown",
   "id": "99a7c3b4",
   "metadata": {},
   "source": [
    "### Now we will calculate the number of iterations, execution time for batch sizes in the range, \n",
    "## $$2^1, 2^2\\; ..... \\; 2^{10}$$\n",
    "\n",
    "### and try to find the values which give the most optimum values of __a__ and __b__ \n",
    "\n",
    "### NOTE: We are iterating over powers of 2 because it is __computationally faster__. Also powers of 2 fit the memory requirements of CPU and GPU"
   ]
  },
  {
   "cell_type": "code",
   "execution_count": 41,
   "id": "8c65aaea",
   "metadata": {},
   "outputs": [
    {
     "name": "stdout",
     "output_type": "stream",
     "text": [
      "{'batch_size': 2, 'iterations': '1000', 'exec_time': 0.03710007667541504, 'a': 0.36, 'b': 2.13}\n",
      "{'batch_size': 4, 'iterations': '1000', 'exec_time': 0.03418135643005371, 'a': 0.28, 'b': 1.98}\n",
      "{'batch_size': 8, 'iterations': '1000', 'exec_time': 0.04057145118713379, 'a': 0.32, 'b': 1.99}\n",
      "{'batch_size': 16, 'iterations': '1000', 'exec_time': 0.04764676094055176, 'a': 0.28, 'b': 2.01}\n",
      "{'batch_size': 32, 'iterations': '1000', 'exec_time': 0.04814934730529785, 'a': 0.24, 'b': 2.01}\n",
      "{'batch_size': 64, 'iterations': '1000', 'exec_time': 0.042153358459472656, 'a': 0.29, 'b': 2.02}\n",
      "{'batch_size': 128, 'iterations': '1000', 'exec_time': 0.054213523864746094, 'a': 0.3, 'b': 2.0}\n",
      "{'batch_size': 256, 'iterations': '1000', 'exec_time': 0.06735849380493164, 'a': 0.29, 'b': 2.03}\n",
      "{'batch_size': 512, 'iterations': '1000', 'exec_time': 0.10614824295043945, 'a': 0.29, 'b': 2.02}\n",
      "{'batch_size': 1024, 'iterations': '1000', 'exec_time': 0.15604925155639648, 'a': 0.29, 'b': 2.01}\n",
      "   batch_size iterations  exec_time     a     b\n",
      "0           2       1000   0.037100  0.36  2.13\n",
      "1           4       1000   0.034181  0.28  1.98\n",
      "2           8       1000   0.040571  0.32  1.99\n",
      "3          16       1000   0.047647  0.28  2.01\n",
      "4          32       1000   0.048149  0.24  2.01\n",
      "5          64       1000   0.042153  0.29  2.02\n",
      "6         128       1000   0.054214  0.30  2.00\n",
      "7         256       1000   0.067358  0.29  2.03\n",
      "8         512       1000   0.106148  0.29  2.02\n",
      "9        1024       1000   0.156049  0.29  2.01\n"
     ]
    }
   ],
   "source": [
    "batch_sizes = [2**i for i in range(1,11)]\n",
    "out = []\n",
    "\n",
    "for b in batch_sizes:\n",
    "    #print('batch_size ', str(b))\n",
    "    tmp = {}\n",
    "    tmp['batch_size'] = b\n",
    "    tmp['iterations'], tmp['exec_time'], tmp['a'], tmp['b'] = lr_mb_gd(X, Y, b)\n",
    "    #print('\\n')\n",
    "    print(tmp)\n",
    "    out.append(tmp)\n",
    "df = pd.DataFrame(out)\n",
    "print(df.head(50))\n",
    "\n"
   ]
  },
  {
   "cell_type": "markdown",
   "id": "3ef8320a",
   "metadata": {},
   "source": [
    "## As observed, we are getting the most optimal values for a and b using a batch size and time taken(seconds) as under:"
   ]
  },
  {
   "cell_type": "code",
   "execution_count": 44,
   "id": "cce392fc",
   "metadata": {},
   "outputs": [
    {
     "name": "stdout",
     "output_type": "stream",
     "text": [
      "0.054213523864746094 128 1000\n"
     ]
    }
   ],
   "source": [
    "mgd_time = df[(df['a'].isin([0.30,0.31,0.29])) & (df['b'].isin([1.99, 2.0, 2.01]))]['exec_time'].min()\n",
    "mgd_batch_size = list(df[df['exec_time'] == mgd_time]['batch_size'])[0]\n",
    "mgd_iterations = list(df[df['exec_time'] == mgd_time]['iterations'])[0]\n",
    "\n",
    "print(mgd_time,mgd_batch_size,mgd_iterations)\n"
   ]
  },
  {
   "cell_type": "markdown",
   "id": "998e5ecb",
   "metadata": {},
   "source": [
    "# Q1.e) Does SGD do better or worse in terms of time performance on our data? Is there an optimal minibatch size that works best? Quantify and interpret your findings."
   ]
  },
  {
   "cell_type": "markdown",
   "id": "dce92037",
   "metadata": {},
   "source": [
    "# Inference: \n"
   ]
  },
  {
   "cell_type": "code",
   "execution_count": 45,
   "id": "c9a28c6f",
   "metadata": {},
   "outputs": [
    {
     "name": "stdout",
     "output_type": "stream",
     "text": [
      "1.1576311588287354 0.054213523864746094 0.023595809936523438\n"
     ]
    }
   ],
   "source": [
    "print(batch_time, mgd_time, sgd_time)"
   ]
  },
  {
   "cell_type": "markdown",
   "id": "d507d712",
   "metadata": {},
   "source": [
    "## With fixed values for parameters like **learn rate = 0.005, and max_iter = 1000**, we can observe the time taken by the above three algorithms as:\n",
    "## $$Batch\\; Gradient\\; Descent > MiniBatch\\; Gradient\\; Descent > Stochastic\\; Gradient\\; Descent$$ "
   ]
  },
  {
   "cell_type": "markdown",
   "id": "d5aa1fec",
   "metadata": {},
   "source": [
    "## The percentage reduction in execution time of Minibatch GD versus Batch GD is as below:"
   ]
  },
  {
   "cell_type": "code",
   "execution_count": 46,
   "id": "a64ed629",
   "metadata": {},
   "outputs": [
    {
     "name": "stdout",
     "output_type": "stream",
     "text": [
      "MGD Time_reduction_perc versus Batch GD = 95.32 %\n"
     ]
    }
   ],
   "source": [
    "print('MGD Time_reduction_perc versus Batch GD =',round(((batch_time - mgd_time)/batch_time)*100,2), '%')"
   ]
  },
  {
   "cell_type": "markdown",
   "id": "b635f759",
   "metadata": {},
   "source": [
    "## The percentage reduction in execution time of Stochastic GD versus Batch GD is as below:"
   ]
  },
  {
   "cell_type": "code",
   "execution_count": 47,
   "id": "fe1c16bc",
   "metadata": {},
   "outputs": [
    {
     "name": "stdout",
     "output_type": "stream",
     "text": [
      "SGD Time_reduction_perc versus Batch GD = 97.96 %\n"
     ]
    }
   ],
   "source": [
    "print('SGD Time_reduction_perc versus Batch GD =',round(((batch_time - sgd_time)/batch_time)*100,2), '%')"
   ]
  },
  {
   "cell_type": "markdown",
   "id": "79b72f7c",
   "metadata": {},
   "source": [
    "## The percentage reduction in execution time of Stochastic GD versus Minibatch GD is as below:"
   ]
  },
  {
   "cell_type": "code",
   "execution_count": 48,
   "id": "3ae217ba",
   "metadata": {},
   "outputs": [
    {
     "name": "stdout",
     "output_type": "stream",
     "text": [
      "SGD Time_reduction_perc versus MGD = 56.48 %\n"
     ]
    }
   ],
   "source": [
    "print('SGD Time_reduction_perc versus MGD =',round(((mgd_time - sgd_time)/mgd_time)*100,2), '%')"
   ]
  },
  {
   "cell_type": "markdown",
   "id": "827b3741",
   "metadata": {},
   "source": [
    "\n",
    "<br>\n",
    "<br>\n",
    "\n",
    "## The most optimal batch size reported so for for Minibatch Grdadient Descent is:"
   ]
  },
  {
   "cell_type": "code",
   "execution_count": 49,
   "id": "12232941",
   "metadata": {},
   "outputs": [
    {
     "name": "stdout",
     "output_type": "stream",
     "text": [
      "128\n"
     ]
    }
   ],
   "source": [
    "print(mgd_batch_size)"
   ]
  },
  {
   "cell_type": "code",
   "execution_count": null,
   "id": "ae5119cd",
   "metadata": {},
   "outputs": [],
   "source": []
  },
  {
   "cell_type": "code",
   "execution_count": null,
   "id": "7b2920f7",
   "metadata": {},
   "outputs": [],
   "source": []
  },
  {
   "cell_type": "code",
   "execution_count": null,
   "id": "9b12924f",
   "metadata": {},
   "outputs": [],
   "source": []
  },
  {
   "cell_type": "markdown",
   "id": "878e7e47",
   "metadata": {},
   "source": [
    "# Q2. Surprise! This problem too builds on a problem that I asked in the mid-sem exam. Consider again this Bayesian network and calculate:\n"
   ]
  },
  {
   "cell_type": "markdown",
   "id": "2fe10015",
   "metadata": {},
   "source": [
    "### (i) the probability that someone has both cold and a fever [5 points]\n"
   ]
  },
  {
   "cell_type": "markdown",
   "id": "3d25c773",
   "metadata": {},
   "source": [
    "$$ P(cold \\cap fever)  = P(fever / cold) * P(cold) \n",
    "                       = 0.307*0.02\n",
    "                       = 0.00614 --------ANS.\n",
    "$$"
   ]
  },
  {
   "cell_type": "markdown",
   "id": "fe08d20c",
   "metadata": {},
   "source": [
    "### (ii) the probability that someone who has a cough has a cold. [10 points]\n"
   ]
  },
  {
   "cell_type": "markdown",
   "id": "5e690995",
   "metadata": {},
   "source": [
    "$$ P(cold/cough) = P(cough \\cap cold)/P(cough) ------- (0)$$"
   ]
  },
  {
   "cell_type": "markdown",
   "id": "11d70f71",
   "metadata": {},
   "source": [
    "$$P(lungDisease) = P(lungDisease/smokes)*P(smokes) + P(lungDisease/not smokes) * P(not smokes)$$\n",
    "$$0.2*0.1009 + 0.8*0.001 = 0.02098 -------(1)$$"
   ]
  },
  {
   "cell_type": "markdown",
   "id": "cd96e762",
   "metadata": {},
   "source": [
    "$$P(cold) = P(lungDisease)*P(cold)*P(cough/lungDisease \\cap cold) + P(lungDisease)*P(\\overline{cold})*P(cough/lungDisease \\cap\\overline{cold}) + P(\\overline{lungDisease})*P(cold)*P(cough/\\overline{lungDisease} \\cap cold) + P(\\overline{lungDisease})*P(\\overline{cold})*P(cough/\\overline{lungDisease} \\cap \\overline{cold}) $$"
   ]
  },
  {
   "cell_type": "markdown",
   "id": "5c7e7c5d",
   "metadata": {},
   "source": [
    "$$= 0.02098*0.02*0.7525 + 0.02098*0.98*0.505 + 0.97902*0.02*0.505 +  0.97902*0.98*0.01 $$\n",
    "$$ =0. 000315749 + 0.010383002 + 0.009888102 + 0.009594396 $$\n",
    "$$ = 0.030181249 \\;-------------(2)$$  "
   ]
  },
  {
   "cell_type": "markdown",
   "id": "370c179d",
   "metadata": {},
   "source": [
    "$$P(cough \\cap cold) = P(lungDisease)*P(cold)*P(cough/lungDisease \\cap cold) +  P(\\overline{lungDisease})*P(cold)*P(cough/\\overline{lungDisease} \\cap cold)$$\n",
    "$$ = 0.02098*0.02*0.7525 + 0.97902*0.02*0.01 = 0.000315749 +0.009888102 = 0.010203851 ------------(3)$$"
   ]
  },
  {
   "cell_type": "markdown",
   "id": "295b0772",
   "metadata": {},
   "source": [
    "Putting  (2) and (3) in (0), we get, \n",
    "$$0.010203851/0.030181249 = 0.33809------------ANS.$$ "
   ]
  },
  {
   "cell_type": "markdown",
   "id": "de45bd3f",
   "metadata": {},
   "source": [
    "# Q3. Derive the MLE for the parameters of a k-sided multinomial distribution. [10 points]"
   ]
  },
  {
   "cell_type": "markdown",
   "id": "20268efd",
   "metadata": {},
   "source": [
    "\n",
    "$X$ :  Random variable specifying the outcome for each possible outcomes  \n",
    "$X : {X_1 , X_2, X_3 \\ldots X_k}$ \n",
    "<br>\n",
    "<br>\n",
    "where, \n",
    "<br>\n",
    "$X_1$ denotes first possible outcome<br>\n",
    "$X_2$ denotes second possible outcome<br>\n",
    "$\\vdots$<br>\n",
    "$X_k$ denotes kth possible outcome<br>\n",
    "\n",
    "$x_1$ denotes the number of times first possible outcome occurs<br>\n",
    "$x_2$ denotes the number of times second possible outcome occurs<br>\n",
    "$\\vdots$<br>\n",
    "$x_k$ denotes the number of times kth possible outcome occurs<br>\n",
    "\n",
    "### Below is ths standard formula for pdf for multinomial distribution:\n",
    "\n",
    "$$P(X_1=x_1, X_2=x_2 .... X_k=x_k) = \\frac{n_1!}{{x_1!}{x_2!}....{x_k!}}{{\\alpha_1^{x_1}}{\\alpha_2^{x_2}}...{\\alpha_k^{x_k}}} ............ (1)$$\n",
    "\n",
    "\n",
    "and <br>\n",
    "$\\alpha_1$ : probability of having first outcome <br>\n",
    "$\\alpha_2$ : probability of having second outcome <br>\n",
    "$\\alpha_3$ : probability of having third outcome <br>\n",
    "$\\vdots$ <br>\n",
    "$\\alpha_k$ : probability of having kth outcome <br>\n",
    "$\\therefore \\alpha_1 + \\alpha_2 + \\alpha_3 + \\cdots + \\alpha_k = 1$ <br>\n",
    "\n",
    "$$\\sum{x_i}=n, \\sum{\\alpha_i}=n$$\n",
    "$$L(x_1, x_2, ..., x_k; \\alpha_1, \\alpha_2...., \\alpha_k) = L(\\alpha) = \\frac{n_1!}{{x_1!}{x_2!}....{x_k!}}{{\\alpha_1^{x_1}}{\\alpha_2^{x_2}}...{\\alpha_k^{x_k}}}$$\n",
    "\n",
    "$L(\\alpha)$ represents the likelihood <br>\n",
    "$$l(\\alpha) = \\log(L(\\alpha))$$\n",
    "$l(\\alpha)$ represents the log likelihood <br>\n",
    "$$\\log(\\frac{n_1!}{{x_1!}{x_2!}....{x_k!}}{{\\alpha_1^{x_1}}{\\alpha_2^{x_2}}...{\\alpha_k^{x_k}}})$$\n",
    "$$\\log(n!)+ \\sum_{i=1}^k{x_i\\log(\\alpha_i)} - \\sum_{i=1}^k\\log(x_i!)$$\n",
    "\n",
    "We will add a parameter $\\lambda$, to avoid $\\alpha$ taking large values <br>\n",
    "$\\lambda$: Langrangian parameter for regularization <br>\n",
    "\n",
    "So the equation now becomes $ Regularized{\\;} Log{\\;} Likelihood{\\;} \\lambda \\to RLL(\\theta,\\alpha)$<br>\n",
    "\n",
    "$$l(\\alpha, \\lambda) = L(\\alpha) + \\lambda(1-\\sum_{i=1}^k\\alpha_i) ........... (2)$$\n",
    "\n",
    "The task is to find the minima of the above function:\n",
    "\n",
    "$$\\frac{\\partial l(\\alpha, \\lambda)}{\\partial \\alpha_1} = \\frac{\\partial L(\\alpha)}{\\partial \\alpha_1} + \\frac{\\partial \\lambda(1-\\sum_{i=1}^k\\alpha_i)}{\\partial \\alpha_1}$$\n",
    "$$ = \\frac{\\partial \\log(n!)+ \\sum_{i=1}^k{x_i\\log(\\alpha_i)} - \\sum_{i=1}^k\\log(x_i!)}{\\partial \\alpha_1} + \\frac{\\partial \\lambda(1-\\sum_{i=1}^k\\alpha_i)}{\\partial \\alpha_1}$$ \n",
    "$$= 0+\\frac{\\alpha_1}{x_1} -0+0-\\lambda = \\frac{\\alpha_1}{x_1}-\\lambda$$\n",
    "<br>\n",
    "Similarly, we can show that, \n",
    "\n",
    "$$\\frac{\\partial l(\\alpha, \\lambda)}{\\partial \\alpha_k} = \\frac{\\alpha_k}{x_k}-\\lambda $$\n",
    "\n",
    "<br>\n",
    "In order to find the maxima, we need to equate these gradients to 0:\n",
    "\n",
    "$$\\frac{x_1}{\\alpha_1} = \\lambda$$\n",
    "i.e.\n",
    "$$\\alpha_1 = \\frac{x_1}{\\lambda}$$\n",
    "$$\\alpha_2 = \\frac{x_2}{\\lambda}$$\n",
    ".\n",
    ".\n",
    ".\n",
    "$$\\alpha_k = \\frac{x_k}{\\lambda} ............ (4)$$\n"
   ]
  },
  {
   "cell_type": "markdown",
   "id": "b1cb2ed0",
   "metadata": {},
   "source": [
    "$$\\to \\alpha_1+\\alpha_2...\\alpha_k = \\frac{x_1}{\\lambda} + \\frac{x_2}{\\lambda} .... + \\frac{x_k}{\\lambda}....(3)$$\n",
    "<br>\n",
    "\n",
    "$$Since,\\;\\; \\sum(\\alpha_i) = 1, (3)\\; now\\; becomes, $$\n",
    "\n",
    "$$\\to 1 = \\frac{1}{\\lambda}(x_1+x_2+ .... x_k)$$\n",
    "$$\\to 1 = \\frac{\\sum(x_i)}{\\lambda}$$\n",
    "## $$\\to\\lambda = n -----------(5)$$\n",
    "<br>\n",
    "<br>\n",
    "\n",
    "\n",
    "Differentiating again in order to get the maxima, we will obtain a Hessian matrix of the form:\n",
    "$$\\frac{\\partial^2l(\\alpha, \\lambda)}{\\partial \\alpha^2} = \\begin{bmatrix}\n",
    " \\frac{\\partial^2l(\\alpha, \\lambda)}{\\partial \\alpha_1^2} & \\frac{\\partial^2l(\\alpha, \\lambda)}{\\partial \\alpha_1\\partial \\alpha_2} & ...\\frac{\\partial^2l(\\alpha, \\lambda)}{\\partial \\alpha_1\\partial \\alpha_k} \\\\\n",
    " \\frac{\\partial^2l(\\alpha, \\lambda)}{\\partial \\alpha_2\\partial \\alpha_1} & \\frac{\\partial^2l(\\alpha, \\lambda)}{\\partial \\alpha_2^2} & ...\\frac{\\partial^2l(\\alpha, \\lambda)}{\\partial \\alpha_2\\partial \\alpha_k}\\\\\n",
    "  .& & \\\\\n",
    "  .& & \\\\\n",
    "  .& & \\\\\n",
    " \\frac{\\partial^2l(\\alpha, \\lambda)}{\\partial \\alpha_k\\partial \\alpha_1} & \\frac{\\partial^2l(\\alpha, \\lambda)}{\\partial \\alpha_k\\partial \\alpha_2} & ...\\frac{\\partial^2l(\\alpha, \\lambda)}{\\partial \\alpha_k^2}\\\\\n",
    "\\end{bmatrix}$$\n"
   ]
  },
  {
   "cell_type": "markdown",
   "id": "d5ee773a",
   "metadata": {},
   "source": [
    "\\begin{bmatrix}\n",
    " \\frac{\\partial (\\frac{x_1}{\\alpha_1}-\\lambda)}{\\partial \\alpha_1} & \\frac{\\partial(\\frac{x_2}{\\alpha_2}-\\lambda)}{\\partial \\alpha_1} & ...\\frac{\\partial(\\frac{x_k}{\\alpha_k}-\\lambda)}{\\partial \\alpha_1} \\\\\n",
    " \\frac{\\partial (\\frac{x_1}{\\alpha_1}-\\lambda)}{\\partial \\alpha_2} & \\frac{\\partial(\\frac{x_2}{\\alpha_2}-\\lambda)}{\\partial \\alpha_2} & ...\\frac{\\partial(\\frac{x_k}{\\alpha_k}-\\lambda)}{\\partial \\alpha_2}\\\\\n",
    "  .& & \\\\\n",
    "  .& & \\\\\n",
    "  .& & \\\\\n",
    " \\frac{\\partial (\\frac{x_1}{\\alpha_1}-\\lambda)}{\\partial \\alpha_k} & \\frac{\\partial(\\frac{x_2}{\\alpha_2}-\\lambda)}{\\partial \\alpha_k} & ...\\frac{\\partial(\\frac{x_k}{\\alpha_k}-\\lambda)}{\\partial \\alpha_k}\\\\\n",
    "\\end{bmatrix}"
   ]
  },
  {
   "cell_type": "markdown",
   "id": "699ff815",
   "metadata": {},
   "source": [
    "\\begin{bmatrix}\n",
    " \\frac{-x_1}{\\alpha_1^2} & 0 & ... 0 \\\\\n",
    "   0 & \\frac{-x_2}{\\alpha_2^2} & ... 0\\\\\n",
    "  .& & \\\\\n",
    "  .& & \\\\\n",
    "  .& & \\\\\n",
    " 0 & 0 & ... \\frac{-x_k}{\\alpha_k^2}\\\\\n",
    "\\end{bmatrix}"
   ]
  },
  {
   "cell_type": "markdown",
   "id": "805a34b3",
   "metadata": {},
   "source": [
    "$$As\\; x_1, x_2 ... x_k\\; are\\; all\\; whole\\; numbers,\\; \\geq 0\\; and \\; \\alpha_1, \\alpha_2..., \\alpha_k \\; are \\; probabilities \\; \\geq 0, $$\n",
    "$$\\frac{x_k}{\\alpha_k^2} \\geq 0$$\n",
    "$$\\frac{-x_k}{\\alpha_k^2} \\leq 0$$\n",
    "\n",
    "$$\\to The\\; given\\; matrix\\; is\\; NEGATIVE\\; SEMI\\; DEFINITE$$"
   ]
  },
  {
   "cell_type": "markdown",
   "id": "05485af6",
   "metadata": {},
   "source": [
    "### So the probabilities,\n",
    "## $$\\alpha_k = \\frac{x_k}{\\lambda}$$\n",
    "#### $$where, \\; \\lambda = n\\;.... from \\; (5)$$\n",
    "\n",
    "### are the required estimates for the MLE for the parameters of a k-sided multinomial distribution."
   ]
  }
 ],
 "metadata": {
  "interpreter": {
   "hash": "9e5e28c5b929416f221fb6605a701fda341e3fadbb2ce7c8964d3325eb15f30d"
  },
  "kernelspec": {
   "display_name": "Python 3 (ipykernel)",
   "language": "python",
   "name": "python3"
  },
  "language_info": {
   "codemirror_mode": {
    "name": "ipython",
    "version": 3
   },
   "file_extension": ".py",
   "mimetype": "text/x-python",
   "name": "python",
   "nbconvert_exporter": "python",
   "pygments_lexer": "ipython3",
   "version": "3.8.8"
  },
  "varInspector": {
   "cols": {
    "lenName": 16,
    "lenType": 16,
    "lenVar": 40
   },
   "kernels_config": {
    "python": {
     "delete_cmd_postfix": "",
     "delete_cmd_prefix": "del ",
     "library": "var_list.py",
     "varRefreshCmd": "print(var_dic_list())"
    },
    "r": {
     "delete_cmd_postfix": ") ",
     "delete_cmd_prefix": "rm(",
     "library": "var_list.r",
     "varRefreshCmd": "cat(var_dic_list()) "
    }
   },
   "types_to_exclude": [
    "module",
    "function",
    "builtin_function_or_method",
    "instance",
    "_Feature"
   ],
   "window_display": false
  }
 },
 "nbformat": 4,
 "nbformat_minor": 5
}
