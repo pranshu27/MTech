{
 "cells": [
  {
   "cell_type": "code",
   "execution_count": 11,
   "id": "54e6aace",
   "metadata": {},
   "outputs": [
    {
     "name": "stdout",
     "output_type": "stream",
     "text": [
      "-1.5\n",
      "1.0\n"
     ]
    }
   ],
   "source": [
    "import numpy as np\n",
    "\n",
    "gradient1 = lambda x: 2*x+3\n",
    "gradient2 = lambda x: 4*(x**3)-6*x+2\n",
    "\n",
    "\n",
    "def gradient_descent (gradient, init_, learn_rate, n_iter=1000, tol=1e-06):\n",
    "    x = init_\n",
    "    for i in range (n_iter): \n",
    "        delta = (-1)*learn_rate * gradient(x)\n",
    "        if np.all(np.abs (delta) <= tol): \n",
    "            break \n",
    "        x += delta \n",
    "    return  round(x*1000)/1000\n",
    "\n",
    "\n",
    "print(gradient_descent(gradient1,4 , 0.1))\n",
    "\n",
    "print(gradient_descent(gradient2,4 , 0.01))\n",
    "\n"
   ]
  },
  {
   "cell_type": "code",
   "execution_count": null,
   "id": "da38c6a3",
   "metadata": {},
   "outputs": [],
   "source": [
    "#!/usr/bin/env python3\n",
    "# -*- coding: utf-8 -*-\n",
    "\"\"\"\n",
    "Created on Sat Sep 18 01:13:54 2021\n",
    "\n",
    "@author: pranshu\n",
    "\"\"\"\n",
    "\n",
    "import numpy as np\n",
    "\n",
    "np. random.seed (0)\n",
    "\n",
    "X = 2.5*np.random.randn(10000)+1.5 #Arra\n",
    "\n",
    "res=1.5*np.random.randn(10000) # Gene.\n",
    "\n",
    "Y = 2+0.3*X + res\n",
    "\n",
    "\n",
    "\n",
    "def lg_gd(X, Y, learning_rate = 0.01, init_a = 0, init_b = 0, max_iter = 1000, tol = 1e-06):\n",
    "    a = 0\n",
    "    b = 0\n",
    "\n",
    "    n = float(len(X)) \n",
    "    \n",
    "    for i in range(max_iter): \n",
    "        Y_pred = a*X + b \n",
    "        \n",
    "        D_a = (-2/n) * sum(X * (Y - Y_pred))  \n",
    "        D_b = (-2/n) * sum(Y - Y_pred)  \n",
    "        \n",
    "        delta_a = (-1)*learning_rate * D_a\n",
    "        delta_b = (-1)*learning_rate * D_b\n",
    "\n",
    "        if (np.all(np.abs (delta_a) <= tol) and np.all(np.abs (delta_b) <= tol)): \n",
    "            break\n",
    "        \n",
    "        a+=delta_a\n",
    "        b+=delta_b\n",
    "    return (a, b)\n",
    "    \n",
    "lg_gd(X, Y)"
   ]
  }
 ],
 "metadata": {
  "kernelspec": {
   "display_name": "Python 3",
   "language": "python",
   "name": "python3"
  },
  "language_info": {
   "codemirror_mode": {
    "name": "ipython",
    "version": 3
   },
   "file_extension": ".py",
   "mimetype": "text/x-python",
   "name": "python",
   "nbconvert_exporter": "python",
   "pygments_lexer": "ipython3",
   "version": "3.8.8"
  }
 },
 "nbformat": 4,
 "nbformat_minor": 5
}
