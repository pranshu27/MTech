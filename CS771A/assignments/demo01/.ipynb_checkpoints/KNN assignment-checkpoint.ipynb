{
 "cells": [
  {
   "cell_type": "code",
   "execution_count": 1,
   "metadata": {},
   "outputs": [
    {
     "data": {
      "text/plain": [
       "['/home/joker/Downloads/Video/SEM1-Downloads/CS771A/demo01',\n",
       " '/home/joker/anaconda3/lib/python38.zip',\n",
       " '/home/joker/anaconda3/lib/python3.8',\n",
       " '/home/joker/anaconda3/lib/python3.8/lib-dynload',\n",
       " '',\n",
       " '/home/joker/anaconda3/lib/python3.8/site-packages',\n",
       " '/home/joker/anaconda3/lib/python3.8/site-packages/IPython/extensions',\n",
       " '/home/joker/.ipython']"
      ]
     },
     "execution_count": 1,
     "metadata": {},
     "output_type": "execute_result"
    }
   ],
   "source": [
    "import sys\n",
    "sys.path"
   ]
  },
  {
   "cell_type": "code",
   "execution_count": 3,
   "metadata": {},
   "outputs": [],
   "source": [
    "\n",
    "import numpy as np\n",
    "import numpy.linalg as lin\n",
    "import time as t\n",
    "\n",
    "# cs771 will be our course package and will contain several modules\n",
    "# Right now we have a dummy module, a data generation module and a data plotting module\n",
    "from cs771 import helloWorld as hW\n",
    "from cs771 import genSyntheticData as gsd\n",
    "from cs771 import plotData as pd\n"
   ]
  },
  {
   "cell_type": "code",
   "execution_count": 4,
   "metadata": {},
   "outputs": [
    {
     "data": {
      "image/png": "[encoded data removed]",
      "text/plain": [
       "<Figure size 504x504 with 1 Axes>"
      ]
     },
     "metadata": {
      "needs_background": "light"
     },
     "output_type": "display_data"
    }
   ],
   "source": [
    "# We will work with a toy dataset in 2D with 20 points per class\n",
    "# Feel free to change n and see what happens. Changing d will break things though\n",
    "d = 2 \n",
    "n = 20\n",
    "\n",
    "# Choose points around which positive and negative class points will be sampled\n",
    "muPos = np.array( [-5,5] )\n",
    "muNeg = np.array( [5,0] )\n",
    "\n",
    "# Generate nice spherical data using our data generation module\n",
    "# Choose a nice radius\n",
    "r = 5\n",
    "XPos = gsd.genSphericalData( d, n, muPos, r )\n",
    "XNeg = gsd.genSphericalData( d, n, muNeg, r )\n",
    "\n",
    "# Let us plot these points on a plane and see where they landed\n",
    "# First, obtain a new figure from the plotting module - the two arguments set the size of the figure\n",
    "fig1 = pd.getFigure( 7, 7 )\n",
    "\n",
    "# The three commands below are just to give the plot an aesthetic aspect ratio - do not worry about this\n",
    "ax = fig1.add_axes( [0,0,0.75,0.75] )\n",
    "ax.set_xlim( [-15, 15] )\n",
    "ax.set_ylim( [-15, 15] )\n",
    "\n",
    "# Now, plot the sampled points - you can change the color, marker and size of the markers\n",
    "pd.plot2D( XPos, fig1, color = 'r', marker = '+' )\n",
    "pd.plot2D( XNeg, fig1, color = 'g', marker = 'o' )"
   ]
  },
  {
   "cell_type": "code",
   "execution_count": 11,
   "metadata": {},
   "outputs": [],
   "source": [
    "from operator import itemgetter\n",
    "\n",
    "def Knn( x, y ):\n",
    "    k=3\n",
    "    dist=[]\n",
    "    for point in XPos:\n",
    "        temp={}\n",
    "        temp[\"dis\"]=lin.norm( np.array( [x,y]) - point, ord = 2)\n",
    "        temp[\"tag\"]=\"pos\"\n",
    "        dist.append(temp)\n",
    "        del temp\n",
    "    \n",
    "    for point in XNeg:\n",
    "        temp={}\n",
    "        temp[\"dis\"]=lin.norm( np.array( [x,y]) - point, ord = 2)\n",
    "        temp[\"tag\"]=\"neg\"\n",
    "        dist.append(temp)\n",
    "        del temp\n",
    "    \n",
    "    #print(\"here\")\n",
    "    #print(dist)\n",
    "    dist = sorted(dist,key=lambda item:item[\"dis\"])\n",
    "    #sorted(dist,key=lambda item: item[0])\n",
    "    # select k terms from the beginning\n",
    "    \n",
    "    dist = dist[0:k]\n",
    "    count = 0\n",
    "    \n",
    "    for d in dist:\n",
    "        if d[\"tag\"]==\"pos\":\n",
    "            count+=1\n",
    "        else:\n",
    "            count-=1\n",
    "    #print(dist)\n",
    "            \n",
    "    del dist\n",
    "    return count"
   ]
  },
  {
   "cell_type": "code",
   "execution_count": 12,
   "metadata": {},
   "outputs": [
    {
     "data": {
      "text/plain": [
       "3"
      ]
     },
     "execution_count": 12,
     "metadata": {},
     "output_type": "execute_result"
    }
   ],
   "source": [
    "Knn(1,1)"
   ]
  },
  {
   "cell_type": "code",
   "execution_count": 13,
   "metadata": {},
   "outputs": [
    {
     "name": "stdout",
     "output_type": "stream",
     "text": [
      "It took 73.998984089 seconds to complete the shading \n"
     ]
    },
    {
     "data": {
      "image/png": "[encoded data removed]",
      "text/plain": [
       "<Figure size 504x504 with 1 Axes>"
      ]
     },
     "metadata": {
      "needs_background": "light"
     },
     "output_type": "display_data"
    }
   ],
   "source": [
    "fig2 = pd.getFigure( 7, 7 )\n",
    "\n",
    "tic = t.process_time()\n",
    "pd.shade2D( Knn, fig2, mode = 'point', xlim = 15, ylim = 15 )\n",
    "toc = t.process_time()\n",
    "print( \"It took \" + str(toc - tic) + \" seconds to complete the shading \")\n",
    "pd.plot2D( XPos, fig2, color = 'r', marker = '+' )\n",
    "pd.plot2D( XNeg, fig2, color = 'g', marker = 'o' )"
   ]
  },
  {
   "cell_type": "code",
   "execution_count": null,
   "metadata": {},
   "outputs": [],
   "source": []
  },
  {
   "cell_type": "code",
   "execution_count": null,
   "metadata": {},
   "outputs": [],
   "source": []
  },
  {
   "cell_type": "code",
   "execution_count": null,
   "metadata": {},
   "outputs": [],
   "source": []
  }
 ],
 "metadata": {
  "kernelspec": {
   "display_name": "Python 3",
   "language": "python",
   "name": "python3"
  },
  "language_info": {
   "codemirror_mode": {
    "name": "ipython",
    "version": 3
   },
   "file_extension": ".py",
   "mimetype": "text/x-python",
   "name": "python",
   "nbconvert_exporter": "python",
   "pygments_lexer": "ipython3",
   "version": "3.8.3"
  }
 },
 "nbformat": 4,
 "nbformat_minor": 5
}
